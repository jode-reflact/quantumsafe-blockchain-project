{
 "cells": [
  {
   "cell_type": "code",
   "execution_count": 79,
   "metadata": {
    "collapsed": true
   },
   "outputs": [],
   "source": [
    "import time\n",
    "\n",
    "import requests\n",
    "import random\n"
   ]
  },
  {
   "cell_type": "code",
   "execution_count": 80,
   "outputs": [],
   "source": [
    "wallets = [ (\"3059301306072a8648ce3d020106082a8648ce3d03010703420004989296a03a8912d634eb7375244651572c35e708f2980fa03f5e9561b6ab7c07ff5e69eabc01a5c52ecd5f1a2b3ec0607fe46b4d4ef57fa536515f78723546f5\", \"308187020100301306072a8648ce3d020106082a8648ce3d030107046d306b02010104202f77dfa14fdb585d90a4e078e70584aae536bcdb57c9f9d81e77c0dc663ed748a14403420004989296a03a8912d634eb7375244651572c35e708f2980fa03f5e9561b6ab7c07ff5e69eabc01a5c52ecd5f1a2b3ec0607fe46b4d4ef57fa536515f78723546f5\"),\n",
    "(\"3059301306072a8648ce3d020106082a8648ce3d03010703420004e4ddc7058cd86915d679aa464710e7407cb623689a07bb77340b94dd043e27c47b8f105f095f177bd52643afe4aee8e63f636ea11308ee265bf169acd3f595ae\", \"308187020100301306072a8648ce3d020106082a8648ce3d030107046d306b02010104200b4231c99eea60d6742278485903e21c4a1763426a6ba73a880da071beb6d35aa14403420004e4ddc7058cd86915d679aa464710e7407cb623689a07bb77340b94dd043e27c47b8f105f095f177bd52643afe4aee8e63f636ea11308ee265bf169acd3f595ae\"),\n",
    "(\"3059301306072a8648ce3d020106082a8648ce3d03010703420004ee7455a9894266fdbc23b6afc39d894a71a837bad62aa5e6cd63ae7a9d1d1e795645bb9e612ff2ae9c5db1775e605a02016ccaf48860f821bd42841702825317\", \"308187020100301306072a8648ce3d020106082a8648ce3d030107046d306b02010104208399d6745eea61b3e55bca3349fa0c4abc5669a351e7b4d18bd89f55668df9cfa14403420004ee7455a9894266fdbc23b6afc39d894a71a837bad62aa5e6cd63ae7a9d1d1e795645bb9e612ff2ae9c5db1775e605a02016ccaf48860f821bd42841702825317\"),\n",
    "]"
   ],
   "metadata": {
    "collapsed": false,
    "pycharm": {
     "name": "#%%\n"
    }
   }
  },
  {
   "cell_type": "code",
   "execution_count": 81,
   "outputs": [],
   "source": [
    "def generate_transaction(sender: str, sender_private_key: str, receiver: str, amount: str):\n",
    "  return requests.post(\"http://localhost:3001/generate/transaction\",\n",
    "                       {\n",
    "                         \"sender_address\": sender,\n",
    "                         \"sender_private_key\": sender_private_key,\n",
    "                         \"receiver_address\": receiver,\n",
    "                         \"amount\": amount\n",
    "                       }).json()"
   ],
   "metadata": {
    "collapsed": false,
    "pycharm": {
     "name": "#%%\n"
    }
   }
  },
  {
   "cell_type": "code",
   "execution_count": 82,
   "outputs": [],
   "source": [
    "def get_arbitrary_transaction():\n",
    "  max_index = len(wallets) - 1\n",
    "  random_sender_index = random.randint(0, max_index)\n",
    "  random_receiver_index = random.randint(0, max_index)\n",
    "\n",
    "  while random_receiver_index == random_sender_index:\n",
    "    random_receiver_index = random.randint(0, max_index)\n",
    "\n",
    "  sender = wallets[random_sender_index]\n",
    "  sender_address = sender[0]\n",
    "  sender_private_key = sender[1]\n",
    "  receiver_address = wallets[random_receiver_index][0]\n",
    "  amount = str(random.randint(1, 1000)),\n",
    "\n",
    "  transaction = generate_transaction(sender_address, sender_private_key, receiver_address, amount)\n",
    "\n",
    "  return {\n",
    "    \"amount\": transaction[\"transaction\"][\"amount\"],\n",
    "    \"sender\": sender_address,\n",
    "    \"receiver\": receiver_address,\n",
    "    \"signature\": transaction[\"signature\"],\n",
    "    \"timestamp\": transaction[\"transaction\"][\"timestamp\"],\n",
    "  }"
   ],
   "metadata": {
    "collapsed": false,
    "pycharm": {
     "name": "#%%\n"
    }
   }
  },
  {
   "cell_type": "code",
   "execution_count": 83,
   "outputs": [],
   "source": [
    "def get_block(index, timestamp, nonce, previous_hash, transactions):\n",
    "  return {\n",
    "    \"index\": index,\n",
    "    \"timestamp\": timestamp,\n",
    "    \"nonce\": nonce,\n",
    "    \"previous_hash\": previous_hash,\n",
    "    \"transactions\": transactions,\n",
    "  }"
   ],
   "metadata": {
    "collapsed": false,
    "pycharm": {
     "name": "#%%\n"
    }
   }
  },
  {
   "cell_type": "code",
   "execution_count": 84,
   "outputs": [],
   "source": [
    "def send_chain():\n",
    "  endpoint = \"http://localhost:2001/chain\"\n",
    "\n",
    "  transactions = list()\n",
    "  for i in range(10):\n",
    "    transactions.append(get_arbitrary_transaction())\n",
    "\n",
    "  block0 = get_block(index=0,\n",
    "                    timestamp=str(time.time()),\n",
    "                    previous_hash=\"\",\n",
    "                    nonce=0,\n",
    "                    transactions=transactions[:5],\n",
    "                    )\n",
    "  block1 = get_block(index=1,\n",
    "                    timestamp=str(time.time()),\n",
    "                    previous_hash=\"\",\n",
    "                    nonce=1,\n",
    "                    transactions=transactions[5:],\n",
    "                    )\n",
    "\n",
    "  res = requests.post(endpoint, json={\n",
    "    \"chain\": {\n",
    "      \"blocks\": [block0, block1]\n",
    "    }\n",
    "  })\n",
    "\n",
    "  return res"
   ],
   "metadata": {
    "collapsed": false,
    "pycharm": {
     "name": "#%%\n"
    }
   }
  },
  {
   "cell_type": "code",
   "execution_count": 85,
   "outputs": [],
   "source": [
    "def get_chain():\n",
    "  endpoint = \"http://localhost:2001/chain\"\n",
    "\n",
    "  res = requests.get(endpoint)\n",
    "  return res.json()"
   ],
   "metadata": {
    "collapsed": false,
    "pycharm": {
     "name": "#%%\n"
    }
   }
  },
  {
   "cell_type": "code",
   "execution_count": 86,
   "outputs": [
    {
     "name": "stdout",
     "output_type": "stream",
     "text": [
      "<Response [204]>\n"
     ]
    }
   ],
   "source": [
    "res = send_chain()\n",
    "print(res)"
   ],
   "metadata": {
    "collapsed": false,
    "pycharm": {
     "name": "#%%\n"
    }
   }
  },
  {
   "cell_type": "code",
   "execution_count": 87,
   "outputs": [
    {
     "name": "stdout",
     "output_type": "stream",
     "text": [
      "{'chain': {'blocks': [{'index': 0, 'nonce': 0, 'previous_hash': '', 'timestamp': '1675805484.927965', 'transactions': [{'amount': '218', 'receiver': '3059301306072a8648ce3d020106082a8648ce3d03010703420004e4ddc7058cd86915d679aa464710e7407cb623689a07bb77340b94dd043e27c47b8f105f095f177bd52643afe4aee8e63f636ea11308ee265bf169acd3f595ae', 'sender': '3059301306072a8648ce3d020106082a8648ce3d03010703420004ee7455a9894266fdbc23b6afc39d894a71a837bad62aa5e6cd63ae7a9d1d1e795645bb9e612ff2ae9c5db1775e605a02016ccaf48860f821bd42841702825317', 'signature': '3ce312ad948fc5c078484cfb13df7296d1b0f4880533fbe68eb3ea21f97c9ba10e5d7a4cae807e79cd9bca7290bda6500348f0e82b48920ff553bfb0550d0540', 'timestamp': '1675805484.764616'}, {'amount': '245', 'receiver': '3059301306072a8648ce3d020106082a8648ce3d03010703420004ee7455a9894266fdbc23b6afc39d894a71a837bad62aa5e6cd63ae7a9d1d1e795645bb9e612ff2ae9c5db1775e605a02016ccaf48860f821bd42841702825317', 'sender': '3059301306072a8648ce3d020106082a8648ce3d03010703420004989296a03a8912d634eb7375244651572c35e708f2980fa03f5e9561b6ab7c07ff5e69eabc01a5c52ecd5f1a2b3ec0607fe46b4d4ef57fa536515f78723546f5', 'signature': '4a9aaca441bd21cb5bad46b222dd8af39b0423a3cda82b61c1c3a1c91f4f7d994d6744c5634b42e4c3c0017c81035603ad6d9bb56e14d74d74568857bd905fe9', 'timestamp': '1675805484.7941298'}, {'amount': '136', 'receiver': '3059301306072a8648ce3d020106082a8648ce3d03010703420004ee7455a9894266fdbc23b6afc39d894a71a837bad62aa5e6cd63ae7a9d1d1e795645bb9e612ff2ae9c5db1775e605a02016ccaf48860f821bd42841702825317', 'sender': '3059301306072a8648ce3d020106082a8648ce3d03010703420004989296a03a8912d634eb7375244651572c35e708f2980fa03f5e9561b6ab7c07ff5e69eabc01a5c52ecd5f1a2b3ec0607fe46b4d4ef57fa536515f78723546f5', 'signature': '963ab908df019d8f8311e19379909d913e3b9fe6d00127fa7c0a11157d291ed9be15da6649e4bf235cb95a4dba6018ce8710f60c1e3457fa89239e8d5efb5b09', 'timestamp': '1675805484.8106399'}, {'amount': '264', 'receiver': '3059301306072a8648ce3d020106082a8648ce3d03010703420004ee7455a9894266fdbc23b6afc39d894a71a837bad62aa5e6cd63ae7a9d1d1e795645bb9e612ff2ae9c5db1775e605a02016ccaf48860f821bd42841702825317', 'sender': '3059301306072a8648ce3d020106082a8648ce3d03010703420004e4ddc7058cd86915d679aa464710e7407cb623689a07bb77340b94dd043e27c47b8f105f095f177bd52643afe4aee8e63f636ea11308ee265bf169acd3f595ae', 'signature': '8ecd865bdf54a0e78962e7355618593a9fa8ce7841c16b75adbbc5c066adedefc5cb818c8b48ac75b5263977b33f5c9873c9a69a7296aecfd85791ada8b2ab34', 'timestamp': '1675805484.820513'}, {'amount': '735', 'receiver': '3059301306072a8648ce3d020106082a8648ce3d03010703420004ee7455a9894266fdbc23b6afc39d894a71a837bad62aa5e6cd63ae7a9d1d1e795645bb9e612ff2ae9c5db1775e605a02016ccaf48860f821bd42841702825317', 'sender': '3059301306072a8648ce3d020106082a8648ce3d03010703420004e4ddc7058cd86915d679aa464710e7407cb623689a07bb77340b94dd043e27c47b8f105f095f177bd52643afe4aee8e63f636ea11308ee265bf169acd3f595ae', 'signature': '19a54dee77ef95551b7652eceb2a84ceeaddf52bf6028cd7e0fb7c1f1ef0cee0cbba9d37d1b6d0553e8f9cc8072433c85894ab6e003d51b58fb02ab74e47780b', 'timestamp': '1675805484.845213'}]}, {'index': 1, 'nonce': 1, 'previous_hash': '', 'timestamp': '1675805484.927969', 'transactions': [{'amount': '380', 'receiver': '3059301306072a8648ce3d020106082a8648ce3d03010703420004989296a03a8912d634eb7375244651572c35e708f2980fa03f5e9561b6ab7c07ff5e69eabc01a5c52ecd5f1a2b3ec0607fe46b4d4ef57fa536515f78723546f5', 'sender': '3059301306072a8648ce3d020106082a8648ce3d03010703420004e4ddc7058cd86915d679aa464710e7407cb623689a07bb77340b94dd043e27c47b8f105f095f177bd52643afe4aee8e63f636ea11308ee265bf169acd3f595ae', 'signature': '76c009c6fa5daec36b1c8cccdbedf592fd464295b0d206f3b42f578a47db8cb615311f3b9b756a359a531bdb03c6ac0ae925ab25e3d9574267229c3fe3be1541', 'timestamp': '1675805484.86127'}, {'amount': '344', 'receiver': '3059301306072a8648ce3d020106082a8648ce3d03010703420004e4ddc7058cd86915d679aa464710e7407cb623689a07bb77340b94dd043e27c47b8f105f095f177bd52643afe4aee8e63f636ea11308ee265bf169acd3f595ae', 'sender': '3059301306072a8648ce3d020106082a8648ce3d03010703420004989296a03a8912d634eb7375244651572c35e708f2980fa03f5e9561b6ab7c07ff5e69eabc01a5c52ecd5f1a2b3ec0607fe46b4d4ef57fa536515f78723546f5', 'signature': '4be1d6bef529433ad006d71ba36de0c90febdde7dd39f16bdc5048522f4815dc464b2cc284a49738f25100855a6aaefb76b40cabfd677358e593354644ddf12b', 'timestamp': '1675805484.8762329'}, {'amount': '399', 'receiver': '3059301306072a8648ce3d020106082a8648ce3d03010703420004e4ddc7058cd86915d679aa464710e7407cb623689a07bb77340b94dd043e27c47b8f105f095f177bd52643afe4aee8e63f636ea11308ee265bf169acd3f595ae', 'sender': '3059301306072a8648ce3d020106082a8648ce3d03010703420004989296a03a8912d634eb7375244651572c35e708f2980fa03f5e9561b6ab7c07ff5e69eabc01a5c52ecd5f1a2b3ec0607fe46b4d4ef57fa536515f78723546f5', 'signature': 'fc08617d7707183cc4ec1c137ac5eafff6c438917b3bde14e4f224a2f70e9852d7bd97709647433982481ca0e741306ff33490930c09e547db88d389c84a53fe', 'timestamp': '1675805484.893173'}, {'amount': '543', 'receiver': '3059301306072a8648ce3d020106082a8648ce3d03010703420004ee7455a9894266fdbc23b6afc39d894a71a837bad62aa5e6cd63ae7a9d1d1e795645bb9e612ff2ae9c5db1775e605a02016ccaf48860f821bd42841702825317', 'sender': '3059301306072a8648ce3d020106082a8648ce3d03010703420004989296a03a8912d634eb7375244651572c35e708f2980fa03f5e9561b6ab7c07ff5e69eabc01a5c52ecd5f1a2b3ec0607fe46b4d4ef57fa536515f78723546f5', 'signature': 'a0ee04f9bdfb7ae2340c8529cfe44ee32c0903a0a71a629b94c31c7b0da2b89d900fb505bd4753c863407b1ff83d971907ee561e3bc4c31c60e5098ddcd17753', 'timestamp': '1675805484.902144'}, {'amount': '946', 'receiver': '3059301306072a8648ce3d020106082a8648ce3d03010703420004ee7455a9894266fdbc23b6afc39d894a71a837bad62aa5e6cd63ae7a9d1d1e795645bb9e612ff2ae9c5db1775e605a02016ccaf48860f821bd42841702825317', 'sender': '3059301306072a8648ce3d020106082a8648ce3d03010703420004989296a03a8912d634eb7375244651572c35e708f2980fa03f5e9561b6ab7c07ff5e69eabc01a5c52ecd5f1a2b3ec0607fe46b4d4ef57fa536515f78723546f5', 'signature': 'a013c6471f226a839c80c637acb2ee6cf3a4596e954cbe321a87a27a8a9b96a1add60e37a2993c37826a7348c8644bd283dc4c29d56c2f6ab0838f51fb006d62', 'timestamp': '1675805484.9194822'}]}], 'index': 2}}\n"
     ]
    }
   ],
   "source": [
    "res = get_chain()\n",
    "print(res)"
   ],
   "metadata": {
    "collapsed": false,
    "pycharm": {
     "name": "#%%\n"
    }
   }
  }
 ],
 "metadata": {
  "kernelspec": {
   "display_name": "Python 3",
   "language": "python",
   "name": "python3"
  },
  "language_info": {
   "codemirror_mode": {
    "name": "ipython",
    "version": 2
   },
   "file_extension": ".py",
   "mimetype": "text/x-python",
   "name": "python",
   "nbconvert_exporter": "python",
   "pygments_lexer": "ipython2",
   "version": "2.7.6"
  }
 },
 "nbformat": 4,
 "nbformat_minor": 0
}