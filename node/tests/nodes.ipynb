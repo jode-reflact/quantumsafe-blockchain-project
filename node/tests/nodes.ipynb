{
 "cells": [
  {
   "cell_type": "code",
   "execution_count": 41,
   "metadata": {
    "collapsed": true
   },
   "outputs": [],
   "source": [
    "import requests"
   ]
  },
  {
   "cell_type": "code",
   "execution_count": 42,
   "outputs": [],
   "source": [
    "def get_nodes():\n",
    "  endpoint = \"http://localhost:2001/nodes\"\n",
    "\n",
    "  res = requests.get(endpoint)\n",
    "  return res.json()"
   ],
   "metadata": {
    "collapsed": false,
    "pycharm": {
     "name": "#%%\n"
    }
   }
  },
  {
   "cell_type": "code",
   "execution_count": 43,
   "outputs": [],
   "source": [
    "def add_node():\n",
    "  endpoint = \"http://localhost:2001/nodes\"\n",
    "  node_address = \"http://localhost:2002\"\n",
    "  res = requests.post(endpoint, json={\n",
    "    \"node\": node_address,\n",
    "  })"
   ],
   "metadata": {
    "collapsed": false,
    "pycharm": {
     "name": "#%%\n"
    }
   }
  },
  {
   "cell_type": "code",
   "execution_count": 44,
   "outputs": [],
   "source": [
    "def add_nodes():\n",
    "  endpoint = \"http://localhost:2001/nodes\"\n",
    "  nodes = [\n",
    "    \"http://localhost:2001\",\n",
    "    \"http://localhost:2002\",\n",
    "    \"http://localhost:2003\",\n",
    "    \"http://localhost:2004\",\n",
    "    \"http://localhost:2005\",\n",
    "  ]\n",
    "  res = requests.post(endpoint, json={\n",
    "    \"nodes\": nodes,\n",
    "  })"
   ],
   "metadata": {
    "collapsed": false,
    "pycharm": {
     "name": "#%%\n"
    }
   }
  },
  {
   "cell_type": "code",
   "execution_count": 45,
   "outputs": [],
   "source": [
    "add_node()\n",
    "#add_nodes()"
   ],
   "metadata": {
    "collapsed": false,
    "pycharm": {
     "name": "#%%\n"
    }
   }
  },
  {
   "cell_type": "code",
   "execution_count": 46,
   "outputs": [
    {
     "name": "stdout",
     "output_type": "stream",
     "text": [
      "['localhost:2002']\n"
     ]
    }
   ],
   "source": [
    "res = get_nodes()\n",
    "nodes = res[\"nodes\"]\n",
    "\n",
    "print(nodes)"
   ],
   "metadata": {
    "collapsed": false,
    "pycharm": {
     "name": "#%%\n"
    }
   }
  },
  {
   "cell_type": "code",
   "execution_count": 46,
   "outputs": [],
   "source": [],
   "metadata": {
    "collapsed": false,
    "pycharm": {
     "name": "#%%\n"
    }
   }
  }
 ],
 "metadata": {
  "kernelspec": {
   "display_name": "Python 3",
   "language": "python",
   "name": "python3"
  },
  "language_info": {
   "codemirror_mode": {
    "name": "ipython",
    "version": 2
   },
   "file_extension": ".py",
   "mimetype": "text/x-python",
   "name": "python",
   "nbconvert_exporter": "python",
   "pygments_lexer": "ipython2",
   "version": "2.7.6"
  }
 },
 "nbformat": 4,
 "nbformat_minor": 0
}