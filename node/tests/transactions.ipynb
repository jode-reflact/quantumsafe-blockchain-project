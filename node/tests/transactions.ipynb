{
 "cells": [
  {
   "cell_type": "code",
   "execution_count": 1,
   "metadata": {
    "collapsed": true
   },
   "outputs": [],
   "source": [
    "import requests\n",
    "import random\n",
    "import time"
   ]
  },
  {
   "cell_type": "code",
   "execution_count": 2,
   "outputs": [],
   "source": [
    "wallets = [ (\"3059301306072a8648ce3d020106082a8648ce3d03010703420004989296a03a8912d634eb7375244651572c35e708f2980fa03f5e9561b6ab7c07ff5e69eabc01a5c52ecd5f1a2b3ec0607fe46b4d4ef57fa536515f78723546f5\", \"308187020100301306072a8648ce3d020106082a8648ce3d030107046d306b02010104202f77dfa14fdb585d90a4e078e70584aae536bcdb57c9f9d81e77c0dc663ed748a14403420004989296a03a8912d634eb7375244651572c35e708f2980fa03f5e9561b6ab7c07ff5e69eabc01a5c52ecd5f1a2b3ec0607fe46b4d4ef57fa536515f78723546f5\"),\n",
    "(\"3059301306072a8648ce3d020106082a8648ce3d03010703420004e4ddc7058cd86915d679aa464710e7407cb623689a07bb77340b94dd043e27c47b8f105f095f177bd52643afe4aee8e63f636ea11308ee265bf169acd3f595ae\", \"308187020100301306072a8648ce3d020106082a8648ce3d030107046d306b02010104200b4231c99eea60d6742278485903e21c4a1763426a6ba73a880da071beb6d35aa14403420004e4ddc7058cd86915d679aa464710e7407cb623689a07bb77340b94dd043e27c47b8f105f095f177bd52643afe4aee8e63f636ea11308ee265bf169acd3f595ae\"),\n",
    "(\"3059301306072a8648ce3d020106082a8648ce3d03010703420004ee7455a9894266fdbc23b6afc39d894a71a837bad62aa5e6cd63ae7a9d1d1e795645bb9e612ff2ae9c5db1775e605a02016ccaf48860f821bd42841702825317\", \"308187020100301306072a8648ce3d020106082a8648ce3d030107046d306b02010104208399d6745eea61b3e55bca3349fa0c4abc5669a351e7b4d18bd89f55668df9cfa14403420004ee7455a9894266fdbc23b6afc39d894a71a837bad62aa5e6cd63ae7a9d1d1e795645bb9e612ff2ae9c5db1775e605a02016ccaf48860f821bd42841702825317\"),\n",
    "]"
   ],
   "metadata": {
    "collapsed": false,
    "pycharm": {
     "name": "#%%\n"
    }
   }
  },
  {
   "cell_type": "code",
   "execution_count": 3,
   "outputs": [],
   "source": [
    "def generate_transaction(sender: str, sender_private_key: str, receiver: str, amount: str):\n",
    "  return requests.post(\"http://localhost:3001/generate/transaction\",\n",
    "                       {\n",
    "                         \"sender_address\": sender,\n",
    "                         \"sender_private_key\": sender_private_key,\n",
    "                         \"receiver_address\": receiver,\n",
    "                         \"amount\": amount\n",
    "                       }).json()"
   ],
   "metadata": {
    "collapsed": false,
    "pycharm": {
     "name": "#%%\n"
    }
   }
  },
  {
   "cell_type": "code",
   "execution_count": 4,
   "outputs": [],
   "source": [
    "def get_arbitrary_transaction():\n",
    "  max_index = len(wallets) - 1\n",
    "  random_sender_index = random.randint(0, max_index)\n",
    "  random_receiver_index = random.randint(0, max_index)\n",
    "\n",
    "  while random_receiver_index == random_sender_index:\n",
    "    random_receiver_index = random.randint(0, max_index)\n",
    "\n",
    "  sender = wallets[random_sender_index]\n",
    "  sender_address = sender[0]\n",
    "  sender_private_key = sender[1]\n",
    "  receiver_address = wallets[random_receiver_index][0]\n",
    "  amount = str(random.randint(1, 1000)),\n",
    "\n",
    "  transaction = generate_transaction(sender_address, sender_private_key, receiver_address, amount)\n",
    "\n",
    "  return {\n",
    "    \"amount\": transaction[\"transaction\"][\"amount\"],\n",
    "    \"sender\": sender_address,\n",
    "    \"receiver\": receiver_address,\n",
    "    \"signature\": transaction[\"signature\"],\n",
    "    \"timestamp\": transaction[\"transaction\"][\"timestamp\"],\n",
    "  }"
   ],
   "metadata": {
    "collapsed": false,
    "pycharm": {
     "name": "#%%\n"
    }
   }
  },
  {
   "cell_type": "code",
   "execution_count": 5,
   "outputs": [],
   "source": [
    "def send_transaction(node, transaction):\n",
    "  res = requests.post(node, json=transaction)\n",
    "  if res.status_code >= 400:\n",
    "    print(\"ERROR\")\n",
    "    print(res.content)\n",
    "  return res"
   ],
   "metadata": {
    "collapsed": false,
    "pycharm": {
     "name": "#%%\n"
    }
   }
  },
  {
   "cell_type": "code",
   "execution_count": 6,
   "outputs": [],
   "source": [
    "def send_arbitrary_transactions(n):\n",
    "  endpoint = \"http://localhost:2001/transactions\"\n",
    "\n",
    "  for i in range(n):\n",
    "    transaction = get_arbitrary_transaction()\n",
    "\n",
    "    res = send_transaction(endpoint, transaction)\n",
    "    print(res.content)"
   ],
   "metadata": {
    "collapsed": false,
    "pycharm": {
     "name": "#%%\n"
    }
   }
  },
  {
   "cell_type": "code",
   "execution_count": 7,
   "outputs": [],
   "source": [
    "def get_pending_transactions():\n",
    "  endpoint = \"http://localhost:2001/transactions\"\n",
    "\n",
    "  res = requests.get(endpoint)\n",
    "  return res.json()"
   ],
   "metadata": {
    "collapsed": false,
    "pycharm": {
     "name": "#%%\n"
    }
   }
  },
  {
   "cell_type": "code",
   "execution_count": 8,
   "outputs": [
    {
     "name": "stdout",
     "output_type": "stream",
     "text": [
      "b''\n",
      "b''\n",
      "b''\n",
      "b''\n",
      "b''\n"
     ]
    }
   ],
   "source": [
    "send_arbitrary_transactions(5)"
   ],
   "metadata": {
    "collapsed": false,
    "pycharm": {
     "name": "#%%\n"
    }
   }
  },
  {
   "cell_type": "code",
   "execution_count": 9,
   "outputs": [
    {
     "name": "stdout",
     "output_type": "stream",
     "text": [
      "5\n",
      "{'transactions': [{'amount': '576', 'receiver': '3059301306072a8648ce3d020106082a8648ce3d03010703420004989296a03a8912d634eb7375244651572c35e708f2980fa03f5e9561b6ab7c07ff5e69eabc01a5c52ecd5f1a2b3ec0607fe46b4d4ef57fa536515f78723546f5', 'sender': '3059301306072a8648ce3d020106082a8648ce3d03010703420004e4ddc7058cd86915d679aa464710e7407cb623689a07bb77340b94dd043e27c47b8f105f095f177bd52643afe4aee8e63f636ea11308ee265bf169acd3f595ae', 'signature': '60a67fab5d61442d7d718290c6f1aab00cd8d7743219ef8aa6e630288f97e57639c36834d750c8ced01aa8277a4ef37f872cd51d07fc4f1f64f2f4e28d42dedd', 'timestamp': '1675804072.500965'}, {'amount': '548', 'receiver': '3059301306072a8648ce3d020106082a8648ce3d03010703420004e4ddc7058cd86915d679aa464710e7407cb623689a07bb77340b94dd043e27c47b8f105f095f177bd52643afe4aee8e63f636ea11308ee265bf169acd3f595ae', 'sender': '3059301306072a8648ce3d020106082a8648ce3d03010703420004ee7455a9894266fdbc23b6afc39d894a71a837bad62aa5e6cd63ae7a9d1d1e795645bb9e612ff2ae9c5db1775e605a02016ccaf48860f821bd42841702825317', 'signature': '8d1deb80ce85758f9f8e2bf80000bfd0ca18125eb14de773e3b9112900ed56d2d1a0a60497db9d0377215d00d960a8f0e8f77b2353c02dc6a45ccfda44619739', 'timestamp': '1675804072.596576'}, {'amount': '562', 'receiver': '3059301306072a8648ce3d020106082a8648ce3d03010703420004e4ddc7058cd86915d679aa464710e7407cb623689a07bb77340b94dd043e27c47b8f105f095f177bd52643afe4aee8e63f636ea11308ee265bf169acd3f595ae', 'sender': '3059301306072a8648ce3d020106082a8648ce3d03010703420004ee7455a9894266fdbc23b6afc39d894a71a837bad62aa5e6cd63ae7a9d1d1e795645bb9e612ff2ae9c5db1775e605a02016ccaf48860f821bd42841702825317', 'signature': '5c7eb258a963cf2b5f8a17f990ef334937ab375905b3700ed9ad91e103339d3ecbc1df748644fceecf5066704ede1c9b586fc7ba6fff2d1c53ceb1e538a9181b', 'timestamp': '1675804072.636085'}, {'amount': '866', 'receiver': '3059301306072a8648ce3d020106082a8648ce3d03010703420004989296a03a8912d634eb7375244651572c35e708f2980fa03f5e9561b6ab7c07ff5e69eabc01a5c52ecd5f1a2b3ec0607fe46b4d4ef57fa536515f78723546f5', 'sender': '3059301306072a8648ce3d020106082a8648ce3d03010703420004e4ddc7058cd86915d679aa464710e7407cb623689a07bb77340b94dd043e27c47b8f105f095f177bd52643afe4aee8e63f636ea11308ee265bf169acd3f595ae', 'signature': '1f2ae8e30563c3db5dd4a18a6905f8ecccda382edd180b861681326ddca280a0dad0e2ba1afcbae593f6d2b9a12105868b713ef996c8810c6f130c3744059ee2', 'timestamp': '1675804072.66993'}, {'amount': '742', 'receiver': '3059301306072a8648ce3d020106082a8648ce3d03010703420004e4ddc7058cd86915d679aa464710e7407cb623689a07bb77340b94dd043e27c47b8f105f095f177bd52643afe4aee8e63f636ea11308ee265bf169acd3f595ae', 'sender': '3059301306072a8648ce3d020106082a8648ce3d03010703420004ee7455a9894266fdbc23b6afc39d894a71a837bad62aa5e6cd63ae7a9d1d1e795645bb9e612ff2ae9c5db1775e605a02016ccaf48860f821bd42841702825317', 'signature': 'b481dcd2227a31354dcd4bcf1db4981925f2ac81f84b977f92097957040fbd4a8e994ee07261f42dbdbfab6c5bdde0df9f91e8596862fabcc743a455d20be9f8', 'timestamp': '1675804072.717854'}]}\n"
     ]
    }
   ],
   "source": [
    "res = get_pending_transactions()\n",
    "#transactions = res[\"transactions\"]\n",
    "\n",
    "print(len(res[\"transactions\"]))\n",
    "print(res)"
   ],
   "metadata": {
    "collapsed": false,
    "pycharm": {
     "name": "#%%\n"
    }
   }
  }
 ],
 "metadata": {
  "kernelspec": {
   "display_name": "Python 3",
   "language": "python",
   "name": "python3"
  },
  "language_info": {
   "codemirror_mode": {
    "name": "ipython",
    "version": 2
   },
   "file_extension": ".py",
   "mimetype": "text/x-python",
   "name": "python",
   "nbconvert_exporter": "python",
   "pygments_lexer": "ipython2",
   "version": "2.7.6"
  }
 },
 "nbformat": 4,
 "nbformat_minor": 0
}