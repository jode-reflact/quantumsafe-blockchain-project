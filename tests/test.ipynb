{
 "cells": [
  {
   "cell_type": "code",
   "execution_count": 23,
   "metadata": {
    "collapsed": true
   },
   "outputs": [],
   "source": [
    "import requests\n",
    "import statistics\n",
    "#import matplotlib.pyplot as plt\n",
    "import pandas as pd\n",
    "#%matplotlib notebook\n"
   ]
  },
  {
   "cell_type": "code",
   "execution_count": 34,
   "metadata": {
    "collapsed": false,
    "pycharm": {
     "name": "#%%\n"
    }
   },
   "outputs": [],
   "source": [
    "res = requests.get(\"http://localhost:2001/chain\")\n",
    "json = res.json()\n",
    "\n",
    "blocks = json[\"chain\"]\n"
   ]
  },
  {
   "cell_type": "code",
   "execution_count": 35,
   "metadata": {
    "collapsed": false,
    "pycharm": {
     "name": "#%%\n"
    }
   },
   "outputs": [],
   "source": [
    "# timestamps = [b[\"timestamp\"] for b in blocks]\n",
    "#\n",
    "# block_times = []\n",
    "# for i in range(1, len(timestamps)):\n",
    "#     time = timestamps[i] - timestamps[i - 1]\n",
    "#     block_times.append(time)\n",
    "#     #print(time)\n",
    "#\n",
    "# print(statistics.mean(block_times))\n",
    "# print(statistics.stdev(block_times))"
   ]
  },
  {
   "cell_type": "code",
   "execution_count": 36,
   "metadata": {
    "collapsed": false,
    "pycharm": {
     "name": "#%%\n"
    }
   },
   "outputs": [],
   "source": [
    "#plt.plot(block_times)"
   ]
  },
  {
   "cell_type": "code",
   "execution_count": 37,
   "metadata": {
    "collapsed": false,
    "pycharm": {
     "name": "#%%\n"
    }
   },
   "outputs": [
    {
     "data": {
      "text/plain": [
       "2"
      ]
     },
     "execution_count": 37,
     "metadata": {},
     "output_type": "execute_result"
    }
   ],
   "source": [
    "all_transactions = dict()\n",
    "\n",
    "for block in blocks:\n",
    "    #transactions_in_block = [str(t) for t in block[\"transactions\"]]\n",
    "    transactions = block[\"transactions\"]\n",
    "    transactions_without_reward = list(filter(lambda t: t[\"sender\"] != \"THE BLOCKCHAIN\", transactions))\n",
    "    #transactions_without_reward_str = [str(t) for t in transactions_without_reward]\n",
    "\n",
    "    for t in transactions_without_reward:\n",
    "        all_transactions[str(t)] = all_transactions[str(t)] + 1 if str(t) in all_transactions else 1\n",
    "\n",
    "multiple_transactions = list(\n",
    "    filter(lambda entry: entry[1] > 1, all_transactions.items())\n",
    ")\n",
    "\n",
    "len(multiple_transactions)\n"
   ]
  },
  {
   "cell_type": "code",
   "execution_count": 38,
   "metadata": {
    "collapsed": false,
    "pycharm": {
     "name": "#%%\n"
    }
   },
   "outputs": [
    {
     "data": {
      "text/html": [
       "<div>\n",
       "<style scoped>\n",
       "    .dataframe tbody tr th:only-of-type {\n",
       "        vertical-align: middle;\n",
       "    }\n",
       "\n",
       "    .dataframe tbody tr th {\n",
       "        vertical-align: top;\n",
       "    }\n",
       "\n",
       "    .dataframe thead th {\n",
       "        text-align: right;\n",
       "    }\n",
       "</style>\n",
       "<table border=\"1\" class=\"dataframe\">\n",
       "  <thead>\n",
       "    <tr style=\"text-align: right;\">\n",
       "      <th></th>\n",
       "      <th>0</th>\n",
       "      <th>1</th>\n",
       "    </tr>\n",
       "  </thead>\n",
       "  <tbody>\n",
       "    <tr>\n",
       "      <th>0</th>\n",
       "      <td>{'amount': 312, 'receiver': '27734bf33f21fcb40...</td>\n",
       "      <td>4</td>\n",
       "    </tr>\n",
       "    <tr>\n",
       "      <th>1</th>\n",
       "      <td>{'amount': 859, 'receiver': '27734bf33f21fcb40...</td>\n",
       "      <td>2</td>\n",
       "    </tr>\n",
       "  </tbody>\n",
       "</table>\n",
       "</div>"
      ],
      "text/plain": [
       "                                                   0  1\n",
       "0  {'amount': 312, 'receiver': '27734bf33f21fcb40...  4\n",
       "1  {'amount': 859, 'receiver': '27734bf33f21fcb40...  2"
      ]
     },
     "execution_count": 38,
     "metadata": {},
     "output_type": "execute_result"
    }
   ],
   "source": [
    "df = pd.DataFrame(multiple_transactions)\n",
    "df"
   ]
  },
  {
   "cell_type": "code",
   "execution_count": 6,
   "metadata": {
    "collapsed": false,
    "pycharm": {
     "name": "#%%\n"
    }
   },
   "outputs": [],
   "source": []
  }
 ],
 "metadata": {
  "kernelspec": {
   "display_name": "blockchain",
   "language": "python",
   "name": "python3"
  },
  "language_info": {
   "codemirror_mode": {
    "name": "ipython",
    "version": 3
   },
   "file_extension": ".py",
   "mimetype": "text/x-python",
   "name": "python",
   "nbconvert_exporter": "python",
   "pygments_lexer": "ipython3",
   "version": "3.10.8"
  },
  "vscode": {
   "interpreter": {
    "hash": "ea5880be67c6ac7691537f4d1a5ef3ae7407faf058ae35be4502ec0da3027975"
   }
  }
 },
 "nbformat": 4,
 "nbformat_minor": 0
}
