{
 "cells": [
  {
   "cell_type": "code",
   "execution_count": 1,
   "metadata": {
    "collapsed": true
   },
   "outputs": [],
   "source": [
    "import requests\n",
    "import statistics\n",
    "import matplotlib.pyplot as plt\n",
    "import pandas as pd\n",
    "%matplotlib notebook\n"
   ]
  },
  {
   "cell_type": "code",
   "execution_count": 2,
   "outputs": [],
   "source": [
    "res = requests.get(\"http://localhost:2001/chain\")\n",
    "json = res.json()\n",
    "\n",
    "chain = json[\"chain\"]\n",
    "blocks = chain[\"blocks\"]"
   ],
   "metadata": {
    "collapsed": false,
    "pycharm": {
     "name": "#%%\n"
    }
   }
  },
  {
   "cell_type": "code",
   "execution_count": 3,
   "outputs": [
    {
     "ename": "StatisticsError",
     "evalue": "mean requires at least one data point",
     "output_type": "error",
     "traceback": [
      "\u001B[0;31m---------------------------------------------------------------------------\u001B[0m",
      "\u001B[0;31mStatisticsError\u001B[0m                           Traceback (most recent call last)",
      "Cell \u001B[0;32mIn[3], line 8\u001B[0m\n\u001B[1;32m      5\u001B[0m     time \u001B[38;5;241m=\u001B[39m timestamps[i] \u001B[38;5;241m-\u001B[39m timestamps[i \u001B[38;5;241m-\u001B[39m \u001B[38;5;241m1\u001B[39m]\n\u001B[1;32m      6\u001B[0m     block_times\u001B[38;5;241m.\u001B[39mappend(time)\n\u001B[0;32m----> 8\u001B[0m mean \u001B[38;5;241m=\u001B[39m \u001B[43mstatistics\u001B[49m\u001B[38;5;241;43m.\u001B[39;49m\u001B[43mmean\u001B[49m\u001B[43m(\u001B[49m\u001B[43mblock_times\u001B[49m\u001B[43m)\u001B[49m\n\u001B[1;32m      9\u001B[0m std \u001B[38;5;241m=\u001B[39m statistics\u001B[38;5;241m.\u001B[39mstdev(block_times)\n",
      "File \u001B[0;32m/opt/homebrew/Cellar/python@3.10/3.10.9/Frameworks/Python.framework/Versions/3.10/lib/python3.10/statistics.py:328\u001B[0m, in \u001B[0;36mmean\u001B[0;34m(data)\u001B[0m\n\u001B[1;32m    326\u001B[0m n \u001B[38;5;241m=\u001B[39m \u001B[38;5;28mlen\u001B[39m(data)\n\u001B[1;32m    327\u001B[0m \u001B[38;5;28;01mif\u001B[39;00m n \u001B[38;5;241m<\u001B[39m \u001B[38;5;241m1\u001B[39m:\n\u001B[0;32m--> 328\u001B[0m     \u001B[38;5;28;01mraise\u001B[39;00m StatisticsError(\u001B[38;5;124m'\u001B[39m\u001B[38;5;124mmean requires at least one data point\u001B[39m\u001B[38;5;124m'\u001B[39m)\n\u001B[1;32m    329\u001B[0m T, total, count \u001B[38;5;241m=\u001B[39m _sum(data)\n\u001B[1;32m    330\u001B[0m \u001B[38;5;28;01massert\u001B[39;00m count \u001B[38;5;241m==\u001B[39m n\n",
      "\u001B[0;31mStatisticsError\u001B[0m: mean requires at least one data point"
     ]
    }
   ],
   "source": [
    "timestamps = [float(b[\"timestamp\"]) for b in blocks]\n",
    "\n",
    "block_times = []\n",
    "for i in range(1, len(timestamps)):\n",
    "    time = timestamps[i] - timestamps[i - 1]\n",
    "    block_times.append(time)\n",
    "\n",
    "mean = statistics.mean(block_times)\n",
    "std = statistics.stdev(block_times)"
   ],
   "metadata": {
    "collapsed": false,
    "pycharm": {
     "name": "#%%\n"
    }
   }
  },
  {
   "cell_type": "code",
   "execution_count": null,
   "outputs": [],
   "source": [
    "block_indexes = [index for index, block_time in enumerate(block_times)]"
   ],
   "metadata": {
    "collapsed": false,
    "pycharm": {
     "name": "#%%\n"
    }
   }
  },
  {
   "cell_type": "code",
   "execution_count": null,
   "outputs": [],
   "source": [
    "start_index, end_index = 2, 58\n",
    "start_index, end_index = 0, len(block_indexes) - 1\n",
    "\n",
    "plt.bar(block_indexes[start_index:end_index], block_times[start_index:end_index])\n",
    "plt.xlabel(\"Block Index\")\n",
    "plt.ylabel(\"Block time in s\")\n",
    "plt.title(\"mean = {:1.3f}, std = {:1.3f}\".format(mean, std))"
   ],
   "metadata": {
    "collapsed": false,
    "pycharm": {
     "name": "#%%\n"
    }
   }
  },
  {
   "cell_type": "code",
   "execution_count": null,
   "outputs": [],
   "source": [
    "all_transactions = dict()\n",
    "\n",
    "for block in blocks:\n",
    "    #transactions_in_block = [str(t) for t in block[\"transactions\"]]\n",
    "    transactions = block[\"transactions\"]\n",
    "    transactions_without_reward = list(filter(lambda t: t[\"sender\"] != \"THE BLOCKCHAIN\", transactions))\n",
    "    #transactions_without_reward_str = [str(t) for t in transactions_without_reward]\n",
    "\n",
    "    for t in transactions_without_reward:\n",
    "        all_transactions[str(t)] = all_transactions[str(t)] + 1 if str(t) in all_transactions else 1\n",
    "\n",
    "multiple_transactions = list(\n",
    "    filter(lambda entry: entry[1] > 1, all_transactions.items())\n",
    ")\n",
    "\n",
    "len(multiple_transactions)\n"
   ],
   "metadata": {
    "collapsed": false,
    "pycharm": {
     "name": "#%%\n"
    }
   }
  },
  {
   "cell_type": "code",
   "execution_count": null,
   "outputs": [],
   "source": [
    "df = pd.DataFrame(multiple_transactions)\n",
    "df"
   ],
   "metadata": {
    "collapsed": false,
    "pycharm": {
     "name": "#%%\n"
    }
   }
  },
  {
   "cell_type": "code",
   "execution_count": null,
   "outputs": [],
   "source": [],
   "metadata": {
    "collapsed": false,
    "pycharm": {
     "name": "#%%\n"
    }
   }
  }
 ],
 "metadata": {
  "kernelspec": {
   "display_name": "Python 3",
   "language": "python",
   "name": "python3"
  },
  "language_info": {
   "codemirror_mode": {
    "name": "ipython",
    "version": 2
   },
   "file_extension": ".py",
   "mimetype": "text/x-python",
   "name": "python",
   "nbconvert_exporter": "python",
   "pygments_lexer": "ipython2",
   "version": "2.7.6"
  }
 },
 "nbformat": 4,
 "nbformat_minor": 0
}