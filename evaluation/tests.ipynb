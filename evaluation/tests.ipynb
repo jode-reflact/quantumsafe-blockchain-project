{
 "cells": [
  {
   "cell_type": "code",
   "execution_count": 22,
   "metadata": {},
   "outputs": [],
   "source": [
    "import os\n",
    "import pandas as pd\n",
    "import numpy as np\n",
    "import json\n",
    "import io"
   ]
  },
  {
   "cell_type": "code",
   "execution_count": 23,
   "metadata": {},
   "outputs": [],
   "source": [
    "aggregated_results_path = os.path.join(os.getcwd(), \"results\", \"aggregated.csv\")\n",
    "aggregated_results_df = pd.read_csv(aggregated_results_path)"
   ]
  },
  {
   "cell_type": "code",
   "execution_count": 24,
   "metadata": {},
   "outputs": [],
   "source": [
    "rsa = aggregated_results_df.loc[\n",
    "        (aggregated_results_df.cipher == \"rsa\") &\n",
    "        (aggregated_results_df.cipher_type == \"3072\") &\n",
    "        (aggregated_results_df.number_transactions == 1000) & \n",
    "        (aggregated_results_df.used_cache == False) &\n",
    "        (aggregated_results_df.block_size == 9)\n",
    "      ]\n",
    "ecc = aggregated_results_df.loc[\n",
    "        (aggregated_results_df.cipher == \"ecc\") &\n",
    "        (aggregated_results_df.cipher_type == \"P-256\") &\n",
    "        (aggregated_results_df.number_transactions == 1000) &\n",
    "        (aggregated_results_df.used_cache == False) &\n",
    "        (aggregated_results_df.block_size == 9)\n",
    "      ]\n",
    "dilithium = aggregated_results_df.loc[\n",
    "        (aggregated_results_df.cipher == \"dilithium\") &\n",
    "        (aggregated_results_df.cipher_type == \"Dilithium3\") &\n",
    "        (aggregated_results_df.number_transactions == 1000) &\n",
    "        (aggregated_results_df.used_cache == False) &\n",
    "        (aggregated_results_df.block_size == 9)\n",
    "      ]\n",
    "\n",
    "rsaCache = aggregated_results_df.loc[\n",
    "        (aggregated_results_df.cipher == \"rsa\") &\n",
    "        (aggregated_results_df.cipher_type == \"3072\") &\n",
    "        (aggregated_results_df.number_transactions == 1000) & \n",
    "        (aggregated_results_df.used_cache == True) &\n",
    "        (aggregated_results_df.block_size == 9)\n",
    "      ]\n",
    "eccCache = aggregated_results_df.loc[\n",
    "        (aggregated_results_df.cipher == \"ecc\") &\n",
    "        (aggregated_results_df.cipher_type == \"P-256\") &\n",
    "        (aggregated_results_df.number_transactions == 1000) &\n",
    "        (aggregated_results_df.used_cache == True) &\n",
    "        (aggregated_results_df.block_size == 9)\n",
    "      ]\n",
    "dilithiumCache = aggregated_results_df.loc[\n",
    "        (aggregated_results_df.cipher == \"dilithium\") &\n",
    "        (aggregated_results_df.cipher_type == \"Dilithium3\") &\n",
    "        (aggregated_results_df.number_transactions == 1000) &\n",
    "        (aggregated_results_df.used_cache == True) &\n",
    "        (aggregated_results_df.block_size == 9)\n",
    "      ]"
   ]
  },
  {
   "cell_type": "code",
   "execution_count": 25,
   "metadata": {},
   "outputs": [],
   "source": [
    "def getList(input):\n",
    "    output = pd.read_csv(io.StringIO('\\n'.join(input.split('\\n')[:-1])), header=None, index_col=0, sep='\\s+')\n",
    "    return output[1].values"
   ]
  },
  {
   "cell_type": "code",
   "execution_count": 26,
   "metadata": {},
   "outputs": [],
   "source": [
    "rsa_dist = getList(rsa[\"distribution\"].iloc[0])\n",
    "ecc_dist = getList(ecc[\"distribution\"].iloc[0])\n",
    "dilithium_dist = getList(dilithium[\"distribution\"].iloc[0])\n",
    "\n",
    "rsa_cache_dist = getList(rsaCache[\"distribution\"].iloc[0])\n",
    "ecc_cache_dist = getList(eccCache[\"distribution\"].iloc[0])\n",
    "dilithium_cache_dist = getList(dilithiumCache[\"distribution\"].iloc[0])"
   ]
  },
  {
   "cell_type": "code",
   "execution_count": 27,
   "metadata": {},
   "outputs": [],
   "source": [
    "from scipy.stats import ttest_ind, bootstrap"
   ]
  },
  {
   "cell_type": "code",
   "execution_count": 28,
   "metadata": {},
   "outputs": [],
   "source": [
    "rsa_bt = np.random.choice(rsa_dist, size=9999)\n",
    "ecc_bt = np.random.choice(ecc_dist, size=9999)\n",
    "dilithium_bt = np.random.choice(dilithium_dist, size=9999)"
   ]
  },
  {
   "cell_type": "code",
   "execution_count": 29,
   "metadata": {},
   "outputs": [
    {
     "name": "stdout",
     "output_type": "stream",
     "text": [
      "1000 tx: RSA vs ECC (H: Both equal) Ttest_indResult(statistic=9.785457651389853, pvalue=6.216416350344414e-12)\n"
     ]
    }
   ],
   "source": [
    "print(\"1000 tx: RSA vs ECC (H: Both equal)\", ttest_ind(rsa_dist, ecc_dist, random_state=42))"
   ]
  },
  {
   "cell_type": "code",
   "execution_count": 39,
   "metadata": {},
   "outputs": [
    {
     "name": "stdout",
     "output_type": "stream",
     "text": [
      "1000 tx: RSA vs ECC (H: Both equal) Ttest_indResult(statistic=9.785457651389853, pvalue=9.999000099990002e-05)\n"
     ]
    }
   ],
   "source": [
    "print(\"1000 tx: RSA vs ECC (H: Both equal)\", ttest_ind(rsa_dist, ecc_dist, random_state=42, permutations=10000))"
   ]
  },
  {
   "cell_type": "code",
   "execution_count": 30,
   "metadata": {},
   "outputs": [
    {
     "name": "stdout",
     "output_type": "stream",
     "text": [
      "1000 tx: RSA vs ECC (H: Both equal) Ttest_indResult(statistic=9.785457651389853, pvalue=6.216416350344414e-12)\n"
     ]
    }
   ],
   "source": [
    "import random\n",
    "rsa_shuffle = rsa_dist.copy()\n",
    "ecc_shuffle = ecc_dist.copy()\n",
    "random.shuffle(rsa_shuffle)\n",
    "random.shuffle(ecc_shuffle)\n",
    "\n",
    "print(\"1000 tx: RSA vs ECC (H: Both equal)\", ttest_ind(rsa_shuffle, ecc_shuffle, random_state=42))"
   ]
  },
  {
   "cell_type": "code",
   "execution_count": 46,
   "metadata": {},
   "outputs": [
    {
     "data": {
      "text/plain": [
       "1.8649249051033242e-11"
      ]
     },
     "execution_count": 46,
     "metadata": {},
     "output_type": "execute_result"
    }
   ],
   "source": [
    "6.216416350344414e-12 * 3"
   ]
  },
  {
   "cell_type": "code",
   "execution_count": 31,
   "metadata": {},
   "outputs": [
    {
     "name": "stdout",
     "output_type": "stream",
     "text": [
      "1000 tx: RSA vs ECC (H: RSA less) Ttest_indResult(statistic=9.785457651389853, pvalue=0.9999999999968918)\n"
     ]
    }
   ],
   "source": [
    "print(\"1000 tx: RSA vs ECC (H: RSA less)\", ttest_ind(rsa_dist, ecc_dist, random_state=42, alternative='less'))"
   ]
  },
  {
   "cell_type": "code",
   "execution_count": 33,
   "metadata": {},
   "outputs": [
    {
     "name": "stdout",
     "output_type": "stream",
     "text": [
      "1000 tx: RSA vs Dilithium (H: Both equal) Ttest_indResult(statistic=-21.125584509118795, pvalue=1.3331960668653799e-22)\n"
     ]
    }
   ],
   "source": [
    "print(\"1000 tx: RSA vs Dilithium (H: Both equal)\", ttest_ind(rsa_dist, dilithium_dist, random_state=42))"
   ]
  },
  {
   "cell_type": "code",
   "execution_count": 47,
   "metadata": {},
   "outputs": [
    {
     "data": {
      "text/plain": [
       "3.99958820059614e-22"
      ]
     },
     "execution_count": 47,
     "metadata": {},
     "output_type": "execute_result"
    }
   ],
   "source": [
    "1.3331960668653799e-22 * 3"
   ]
  },
  {
   "cell_type": "code",
   "execution_count": 34,
   "metadata": {},
   "outputs": [
    {
     "name": "stdout",
     "output_type": "stream",
     "text": [
      "1000 tx: ECC vs Dilithium (H: Both equal) Ttest_indResult(statistic=-24.88165349706574, pvalue=4.0030858503509063e-25)\n"
     ]
    }
   ],
   "source": [
    "print(\"1000 tx: ECC vs Dilithium (H: Both equal)\", ttest_ind(ecc_dist, dilithium_dist, random_state=42))"
   ]
  },
  {
   "cell_type": "code",
   "execution_count": 48,
   "metadata": {},
   "outputs": [
    {
     "data": {
      "text/plain": [
       "1.200925755105272e-24"
      ]
     },
     "execution_count": 48,
     "metadata": {},
     "output_type": "execute_result"
    }
   ],
   "source": [
    "4.0030858503509063e-25 * 3"
   ]
  },
  {
   "cell_type": "code",
   "execution_count": 35,
   "metadata": {},
   "outputs": [],
   "source": [
    "# cache tests"
   ]
  },
  {
   "cell_type": "code",
   "execution_count": 37,
   "metadata": {},
   "outputs": [
    {
     "name": "stdout",
     "output_type": "stream",
     "text": [
      "1000 tx: D Cache vs D (H: D Cache Less) Ttest_indResult(statistic=0.6329465872222688, pvalue=0.734047828734417)\n"
     ]
    }
   ],
   "source": [
    "print(\"1000 tx: D Cache vs D (H: D Cache Less)\", ttest_ind(dilithium_cache_dist, dilithium_dist, random_state=42, alternative='less'))"
   ]
  },
  {
   "cell_type": "code",
   "execution_count": 44,
   "metadata": {},
   "outputs": [
    {
     "name": "stdout",
     "output_type": "stream",
     "text": [
      "1000 tx: ECC Cache vs ECC (H: ECC Cache Less) Ttest_indResult(statistic=-0.7000006494577001, pvalue=0.24485127620152003)\n"
     ]
    }
   ],
   "source": [
    "print(\"1000 tx: ECC Cache vs ECC (H: ECC Cache Less)\", ttest_ind(ecc_cache_dist, ecc_dist, random_state=42, alternative='less'))"
   ]
  },
  {
   "cell_type": "code",
   "execution_count": 45,
   "metadata": {},
   "outputs": [
    {
     "name": "stdout",
     "output_type": "stream",
     "text": [
      "1000 tx: RSA Cache vs RSA (H: RSA Cache Less) Ttest_indResult(statistic=-2.2913122912030603, pvalue=0.01483782119042054)\n"
     ]
    }
   ],
   "source": [
    "print(\"1000 tx: RSA Cache vs RSA (H: RSA Cache Less)\", ttest_ind(rsa_cache_dist, rsa_dist, random_state=42, alternative='less'))"
   ]
  },
  {
   "cell_type": "code",
   "execution_count": null,
   "metadata": {},
   "outputs": [],
   "source": []
  }
 ],
 "metadata": {
  "kernelspec": {
   "display_name": "blockchain",
   "language": "python",
   "name": "python3"
  },
  "language_info": {
   "codemirror_mode": {
    "name": "ipython",
    "version": 3
   },
   "file_extension": ".py",
   "mimetype": "text/x-python",
   "name": "python",
   "nbconvert_exporter": "python",
   "pygments_lexer": "ipython3",
   "version": "3.10.8"
  },
  "orig_nbformat": 4,
  "vscode": {
   "interpreter": {
    "hash": "ea5880be67c6ac7691537f4d1a5ef3ae7407faf058ae35be4502ec0da3027975"
   }
  }
 },
 "nbformat": 4,
 "nbformat_minor": 2
}
