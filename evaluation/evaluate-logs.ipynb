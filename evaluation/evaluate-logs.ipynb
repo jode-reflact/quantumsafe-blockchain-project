{
 "cells": [
  {
   "cell_type": "markdown",
   "metadata": {
    "collapsed": false
   },
   "source": [
    "## Step 1: Calculate timespan for each test"
   ]
  },
  {
   "cell_type": "code",
   "execution_count": 9,
   "metadata": {
    "collapsed": true,
    "pycharm": {
     "name": "#%%\n"
    }
   },
   "outputs": [],
   "source": [
    "import os\n",
    "import pandas as pd\n",
    "from pymongo import MongoClient\n",
    "from dotenv import load_dotenv, find_dotenv"
   ]
  },
  {
   "cell_type": "code",
   "execution_count": 10,
   "metadata": {
    "collapsed": false,
    "pycharm": {
     "name": "#%%\n"
    }
   },
   "outputs": [],
   "source": [
    "def __connect_mongo(host, port, username, password, db, userdb = None):\n",
    "  if username and password:\n",
    "    if userdb is None:\n",
    "      userdb = db\n",
    "    mongo_uri = 'mongodb://%s:%s@%s:%s/%s' % (username, password, host, port, userdb)\n",
    "    print(\"MongoUri\", mongo_uri)\n",
    "    conn = MongoClient(mongo_uri)\n",
    "  else:\n",
    "    conn = MongoClient(host, port)\n",
    "\n",
    "    return conn[db]\n",
    "\n",
    "\n",
    "def read_mongo(db, collection, query={}, host=\"localhost\", port=27017, username=None, password=None, no_id=True, userdb=None):\n",
    "  db = __connect_mongo(host=host, port=port, username=username, password=password, db=db,userdb=userdb)\n",
    "  return pd.DataFrame()\n",
    "  cursor = db[collection].find(query)\n",
    "\n",
    "  df = pd.DataFrame(list(cursor))\n",
    "\n",
    "  if no_id:\n",
    "    del df['_id']\n",
    "\n",
    "  return df"
   ]
  },
  {
   "cell_type": "code",
   "execution_count": 175,
   "metadata": {
    "collapsed": false,
    "pycharm": {
     "name": "#%%\n"
    }
   },
   "outputs": [],
   "source": [
    "#try:\n",
    "load_dotenv('../evaluation_server/.env')\n",
    "print(os.environ)\n",
    "#server version\n",
    "raw_data_df = read_mongo(db=os.environ['dbname'], collection=\"testResults\", host=\"127.0.0.1\", username=os.environ['dbuser'], password=os.environ['dbpass'], userdb=\"admin\")\n",
    "print(\"Connected to server\")\n",
    "#except:\n",
    "    # local version\n",
    "    #raw_data_df = read_mongo(db=\"blockchain\", collection=\"testResults\")"
   ]
  },
  {
   "cell_type": "code",
   "execution_count": 176,
   "metadata": {
    "collapsed": false,
    "pycharm": {
     "name": "#%%\n"
    }
   },
   "outputs": [],
   "source": [
    "def __get_timespan(test):\n",
    "  min_received_at = float('inf')\n",
    "  max_block_timestamp = 0\n",
    "\n",
    "  blocks = test[\"CHAIN\"][\"blocks\"]\n",
    "  for block in blocks:\n",
    "    transactions = block[\"transactions\"]\n",
    "    for transaction in transactions:\n",
    "      if transaction[\"sender\"] == \"THE BLOCKCHAIN\":\n",
    "        continue\n",
    "      if float(transaction[\"receivedAt\"]) < min_received_at:\n",
    "        min_received_at = float(transaction[\"receivedAt\"])\n",
    "      max_block_timestamp = float(block[\"timestamp\"])\n",
    "\n",
    "  return max_block_timestamp - min_received_at"
   ]
  },
  {
   "cell_type": "code",
   "execution_count": 177,
   "metadata": {
    "collapsed": false,
    "pycharm": {
     "name": "#%%\n"
    }
   },
   "outputs": [],
   "source": [
    "test_results = []\n",
    "\n",
    "for i in range(len(raw_data_df)):\n",
    "  test = raw_data_df.iloc[i]\n",
    "  timespan = __get_timespan(test)\n",
    "  test_results.append({\n",
    "    \"test_id\": test[\"TEST_ID\"],\n",
    "    \"cipher\": test[\"CIPHER\"],\n",
    "    \"cipher_type\": test[\"CIPHER_TYPE\"],\n",
    "    \"number_transactions\": test[\"TEST_TRANSACTION_COUNT\"],\n",
    "    \"timespan\": timespan,\n",
    "  })\n"
   ]
  },
  {
   "cell_type": "code",
   "execution_count": 178,
   "metadata": {
    "collapsed": false,
    "pycharm": {
     "name": "#%%\n"
    }
   },
   "outputs": [
    {
     "data": {
      "text/html": [
       "<div>\n",
       "<style scoped>\n",
       "    .dataframe tbody tr th:only-of-type {\n",
       "        vertical-align: middle;\n",
       "    }\n",
       "\n",
       "    .dataframe tbody tr th {\n",
       "        vertical-align: top;\n",
       "    }\n",
       "\n",
       "    .dataframe thead th {\n",
       "        text-align: right;\n",
       "    }\n",
       "</style>\n",
       "<table border=\"1\" class=\"dataframe\">\n",
       "  <thead>\n",
       "    <tr style=\"text-align: right;\">\n",
       "      <th></th>\n",
       "      <th>test_id</th>\n",
       "      <th>cipher</th>\n",
       "      <th>number_transactions</th>\n",
       "      <th>timespan</th>\n",
       "    </tr>\n",
       "  </thead>\n",
       "  <tbody>\n",
       "    <tr>\n",
       "      <th>0</th>\n",
       "      <td>11c91773a9454f4a865e345373a543ab</td>\n",
       "      <td>dilithium</td>\n",
       "      <td>1000</td>\n",
       "      <td>5914.65160</td>\n",
       "    </tr>\n",
       "    <tr>\n",
       "      <th>1</th>\n",
       "      <td>5a5dccbac2424fa2a41121c3ae9c1c3b</td>\n",
       "      <td>dilithium</td>\n",
       "      <td>1000</td>\n",
       "      <td>7209.34849</td>\n",
       "    </tr>\n",
       "    <tr>\n",
       "      <th>2</th>\n",
       "      <td>b6eb77ebca984da0b5766fbb9e31ce45</td>\n",
       "      <td>dilithium</td>\n",
       "      <td>1000</td>\n",
       "      <td>5486.28832</td>\n",
       "    </tr>\n",
       "    <tr>\n",
       "      <th>3</th>\n",
       "      <td>ecfe6c8dd97f438885abde944d78c69f</td>\n",
       "      <td>dilithium</td>\n",
       "      <td>1000</td>\n",
       "      <td>6523.08507</td>\n",
       "    </tr>\n",
       "    <tr>\n",
       "      <th>4</th>\n",
       "      <td>21d91110c1634a1f9bc998a8f66dc278</td>\n",
       "      <td>dilithium</td>\n",
       "      <td>1000</td>\n",
       "      <td>5709.83667</td>\n",
       "    </tr>\n",
       "  </tbody>\n",
       "</table>\n",
       "</div>"
      ],
      "text/plain": [
       "                            test_id     cipher  number_transactions  \\\n",
       "0  11c91773a9454f4a865e345373a543ab  dilithium                 1000   \n",
       "1  5a5dccbac2424fa2a41121c3ae9c1c3b  dilithium                 1000   \n",
       "2  b6eb77ebca984da0b5766fbb9e31ce45  dilithium                 1000   \n",
       "3  ecfe6c8dd97f438885abde944d78c69f  dilithium                 1000   \n",
       "4  21d91110c1634a1f9bc998a8f66dc278  dilithium                 1000   \n",
       "\n",
       "     timespan  \n",
       "0  5914.65160  \n",
       "1  7209.34849  \n",
       "2  5486.28832  \n",
       "3  6523.08507  \n",
       "4  5709.83667  "
      ]
     },
     "execution_count": 178,
     "metadata": {},
     "output_type": "execute_result"
    }
   ],
   "source": [
    "test_results_df = pd.DataFrame(test_results)\n",
    "test_results_df.head()"
   ]
  },
  {
   "cell_type": "code",
   "execution_count": 179,
   "metadata": {
    "collapsed": false,
    "pycharm": {
     "name": "#%%\n"
    }
   },
   "outputs": [],
   "source": [
    "test_results_path = os.path.join(os.getcwd(), \"results\", \"tests.csv\")\n",
    "test_results_df.to_csv(test_results_path, index=False)"
   ]
  },
  {
   "cell_type": "markdown",
   "metadata": {
    "collapsed": false
   },
   "source": [
    "## Step 2: Aggregate test results"
   ]
  },
  {
   "cell_type": "code",
   "execution_count": 180,
   "metadata": {
    "collapsed": false,
    "pycharm": {
     "name": "#%%\n"
    }
   },
   "outputs": [],
   "source": [
    "cipher_algorithms = set(test_results_df[\"cipher\"].unique())\n",
    "cipher_types = set(test_results_df[\"cipher_type\"].unique())\n",
    "numbers_transactions = set(test_results_df[\"number_transactions\"].unique())"
   ]
  },
  {
   "cell_type": "code",
   "execution_count": 181,
   "metadata": {
    "collapsed": false,
    "pycharm": {
     "name": "#%%\n"
    }
   },
   "outputs": [],
   "source": [
    "aggregated_results = []\n",
    "\n",
    "for cipher in cipher_algorithms:\n",
    "  for cipher_type in cipher_types:\n",
    "    for number_transactions in numbers_transactions:\n",
    "      # aggregate\n",
    "      tests = test_results_df.loc[\n",
    "        (test_results_df.cipher == cipher) &\n",
    "        (test_results_df.cipher_type == cipher_type) &\n",
    "        (test_results_df.number_transactions == number_transactions)\n",
    "      ]\n",
    "      aggregated_results.append({\n",
    "        \"cipher\": cipher,\n",
    "        \"cipher_type\": cipher_type,\n",
    "        \"number_transactions\": number_transactions,\n",
    "        \"mean\": tests[\"timespan\"].mean(),\n",
    "        \"std\": tests[\"timespan\"].std(),\n",
    "      })"
   ]
  },
  {
   "cell_type": "code",
   "execution_count": 182,
   "metadata": {
    "collapsed": false,
    "pycharm": {
     "name": "#%%\n"
    }
   },
   "outputs": [
    {
     "data": {
      "text/html": [
       "<div>\n",
       "<style scoped>\n",
       "    .dataframe tbody tr th:only-of-type {\n",
       "        vertical-align: middle;\n",
       "    }\n",
       "\n",
       "    .dataframe tbody tr th {\n",
       "        vertical-align: top;\n",
       "    }\n",
       "\n",
       "    .dataframe thead th {\n",
       "        text-align: right;\n",
       "    }\n",
       "</style>\n",
       "<table border=\"1\" class=\"dataframe\">\n",
       "  <thead>\n",
       "    <tr style=\"text-align: right;\">\n",
       "      <th></th>\n",
       "      <th>cipher</th>\n",
       "      <th>number_transactions</th>\n",
       "      <th>mean</th>\n",
       "      <th>std</th>\n",
       "    </tr>\n",
       "  </thead>\n",
       "  <tbody>\n",
       "    <tr>\n",
       "      <th>0</th>\n",
       "      <td>dilithium</td>\n",
       "      <td>1000</td>\n",
       "      <td>7218.014658</td>\n",
       "      <td>1409.265460</td>\n",
       "    </tr>\n",
       "    <tr>\n",
       "      <th>1</th>\n",
       "      <td>dilithium</td>\n",
       "      <td>500</td>\n",
       "      <td>1953.761000</td>\n",
       "      <td>NaN</td>\n",
       "    </tr>\n",
       "    <tr>\n",
       "      <th>2</th>\n",
       "      <td>rsa</td>\n",
       "      <td>1000</td>\n",
       "      <td>2625.929465</td>\n",
       "      <td>425.632099</td>\n",
       "    </tr>\n",
       "    <tr>\n",
       "      <th>3</th>\n",
       "      <td>rsa</td>\n",
       "      <td>500</td>\n",
       "      <td>NaN</td>\n",
       "      <td>NaN</td>\n",
       "    </tr>\n",
       "    <tr>\n",
       "      <th>4</th>\n",
       "      <td>ecc</td>\n",
       "      <td>1000</td>\n",
       "      <td>3380.310179</td>\n",
       "      <td>574.917935</td>\n",
       "    </tr>\n",
       "  </tbody>\n",
       "</table>\n",
       "</div>"
      ],
      "text/plain": [
       "      cipher  number_transactions         mean          std\n",
       "0  dilithium                 1000  7218.014658  1409.265460\n",
       "1  dilithium                  500  1953.761000          NaN\n",
       "2        rsa                 1000  2625.929465   425.632099\n",
       "3        rsa                  500          NaN          NaN\n",
       "4        ecc                 1000  3380.310179   574.917935"
      ]
     },
     "execution_count": 182,
     "metadata": {},
     "output_type": "execute_result"
    }
   ],
   "source": [
    "aggregated_results_df = pd.DataFrame(aggregated_results)\n",
    "aggregated_results_df.head()"
   ]
  },
  {
   "cell_type": "code",
   "execution_count": 183,
   "metadata": {
    "collapsed": false,
    "pycharm": {
     "name": "#%%\n"
    }
   },
   "outputs": [],
   "source": [
    "aggregated_results_path = os.path.join(os.getcwd(), \"results\", \"aggregated.csv\")\n",
    "aggregated_results_df.to_csv(aggregated_results_path, index=False)"
   ]
  }
 ],
 "metadata": {
  "kernelspec": {
   "display_name": "blockchain",
   "language": "python",
   "name": "python3"
  },
  "language_info": {
   "codemirror_mode": {
    "name": "ipython",
    "version": 3
   },
   "file_extension": ".py",
   "mimetype": "text/x-python",
   "name": "python",
   "nbconvert_exporter": "python",
   "pygments_lexer": "ipython3",
   "version": "3.10.8"
  },
  "vscode": {
   "interpreter": {
    "hash": "ea5880be67c6ac7691537f4d1a5ef3ae7407faf058ae35be4502ec0da3027975"
   }
  }
 },
 "nbformat": 4,
 "nbformat_minor": 0
}
